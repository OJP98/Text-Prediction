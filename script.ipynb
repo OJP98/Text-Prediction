{
 "metadata": {
  "language_info": {
   "codemirror_mode": {
    "name": "ipython",
    "version": 3
   },
   "file_extension": ".py",
   "mimetype": "text/x-python",
   "name": "python",
   "nbconvert_exporter": "python",
   "pygments_lexer": "ipython3",
   "version": "3.8.3-final"
  },
  "orig_nbformat": 2,
  "kernelspec": {
   "name": "python_defaultSpec_1597989224226",
   "display_name": "Python 3.8.3 64-bit"
  }
 },
 "nbformat": 4,
 "nbformat_minor": 2,
 "cells": [
  {
   "cell_type": "markdown",
   "metadata": {},
   "source": [
    "# Laboratorio #3 - Predicción de textos\n",
    "\n",
    "* Oscar Juárez - 17315\n",
    "* José Pablo Cifuentes - 17509\n",
    "* Paul Belches - 17088"
   ]
  },
  {
   "cell_type": "code",
   "execution_count": null,
   "metadata": {
    "tags": []
   },
   "outputs": [],
   "source": [
    "import pandas as pd\n",
    "import numpy as np\n",
    "import re\n",
    "import nltk\n",
    "import matplotlib\n",
    "from wordcloud import WordCloud\n",
    "import collections\n",
    "import random"
   ]
  },
  {
   "cell_type": "markdown",
   "metadata": {},
   "source": [
    "## Importación y limpieza de datos\n",
    "\n",
    "### 1. Abrir y leer archivos. Aplicar expresiones regulares."
   ]
  },
  {
   "cell_type": "code",
   "execution_count": null,
   "metadata": {
    "tags": []
   },
   "outputs": [],
   "source": [
    "blog, news, tweets = [], [] ,[]\n",
    "\n",
    "with open('./files/en_US.blogs.txt', 'r', encoding='utf-8') as blog_txt:\n",
    "    for line in blog_txt:\n",
    "        blog.append(line.lower())\n",
    "\n",
    "with open('./files/en_US.news.txt', 'r', encoding='utf-8') as news_txt:\n",
    "    for line in news_txt:\n",
    "        news.append(line.lower())\n",
    "\n",
    "with open('./files/en_US.twitter.txt', 'r', encoding='utf-8') as twitter_txt:\n",
    "    for line in twitter_txt:\n",
    "        # Quitar \\n y pasarlo a minusculas\n",
    "        line = line.replace('\\n', '').lower()\n",
    "        # Quitar URLS\n",
    "        line = re.sub(r'^https?:\\/\\/.[\\r\\n]', '', line)\n",
    "        # Quitar el resto de expresiones regulares, excepto . , y '\n",
    "        line = re.sub(r\"[^\\w.,\\d'\\s]\", ' ', line)\n",
    "        # Quitar números fuera de contexto\n",
    "        line = re.sub(\"^\\d+\\s|\\s\\d+\\s|\\s\\d+$\", \" \", line)\n",
    "        # Añadirlos a la lista de tweets\n",
    "        tweets.append(line)\n"
   ]
  },
  {
   "cell_type": "code",
   "execution_count": null,
   "metadata": {},
   "outputs": [],
   "source": [
    "df = pd.DataFrame(tweets, columns=[\"tweets\"])\n",
    "df.to_csv('tweets.csv', index=False)"
   ]
  }
 ]
}